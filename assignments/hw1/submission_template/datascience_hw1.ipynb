{
  "nbformat": 4,
  "nbformat_minor": 0,
  "metadata": {
    "colab": {
      "name": "datascience_hw1.ipynb",
      "provenance": []
    },
    "kernelspec": {
      "name": "python3",
      "display_name": "Python 3"
    },
    "language_info": {
      "name": "python"
    }
  },
  "cells": [
    {
      "cell_type": "code",
      "metadata": {
        "colab": {
          "base_uri": "https://localhost:8080/"
        },
        "id": "qHtNatVwLr8_",
        "outputId": "8b98f820-a7b0-4c5b-accd-0756918a404d"
      },
      "source": [
        "from google.colab import drive\n",
        "drive.mount('/content/drive')"
      ],
      "execution_count": 2,
      "outputs": [
        {
          "output_type": "stream",
          "name": "stdout",
          "text": [
            "Drive already mounted at /content/drive; to attempt to forcibly remount, call drive.mount(\"/content/drive\", force_remount=True).\n"
          ]
        }
      ]
    },
    {
      "cell_type": "code",
      "metadata": {
        "colab": {
          "base_uri": "https://localhost:8080/"
        },
        "id": "0hS8lIdyMVZJ",
        "outputId": "8567ba1d-6db5-4568-b0bc-451ff4ea7dbc"
      },
      "source": [
        "%cd \"/content/drive/MyDrive/COMP598-datascience\""
      ],
      "execution_count": 3,
      "outputs": [
        {
          "output_type": "stream",
          "name": "stdout",
          "text": [
            "/content/drive/MyDrive/COMP598-datascience\n"
          ]
        }
      ]
    },
    {
      "cell_type": "code",
      "metadata": {
        "id": "UWH4AcGwKxFo"
      },
      "source": [
        "import csv\n",
        "import pandas as pd"
      ],
      "execution_count": 4,
      "outputs": []
    },
    {
      "cell_type": "code",
      "metadata": {
        "id": "tXE8ePXQLUp8"
      },
      "source": [
        "ds = pd.read_csv(\"IRAhandle_tweets_1.csv\")"
      ],
      "execution_count": 5,
      "outputs": []
    },
    {
      "cell_type": "code",
      "metadata": {
        "colab": {
          "base_uri": "https://localhost:8080/",
          "height": 564
        },
        "id": "F6w-Y97vLip2",
        "outputId": "cf5ddb18-9e73-4f59-89da-e3070cde084a"
      },
      "source": [
        "ds.head()"
      ],
      "execution_count": 6,
      "outputs": [
        {
          "output_type": "execute_result",
          "data": {
            "text/html": [
              "<div>\n",
              "<style scoped>\n",
              "    .dataframe tbody tr th:only-of-type {\n",
              "        vertical-align: middle;\n",
              "    }\n",
              "\n",
              "    .dataframe tbody tr th {\n",
              "        vertical-align: top;\n",
              "    }\n",
              "\n",
              "    .dataframe thead th {\n",
              "        text-align: right;\n",
              "    }\n",
              "</style>\n",
              "<table border=\"1\" class=\"dataframe\">\n",
              "  <thead>\n",
              "    <tr style=\"text-align: right;\">\n",
              "      <th></th>\n",
              "      <th>external_author_id</th>\n",
              "      <th>author</th>\n",
              "      <th>content</th>\n",
              "      <th>region</th>\n",
              "      <th>language</th>\n",
              "      <th>publish_date</th>\n",
              "      <th>harvested_date</th>\n",
              "      <th>following</th>\n",
              "      <th>followers</th>\n",
              "      <th>updates</th>\n",
              "      <th>post_type</th>\n",
              "      <th>account_type</th>\n",
              "      <th>retweet</th>\n",
              "      <th>account_category</th>\n",
              "      <th>new_june_2018</th>\n",
              "      <th>alt_external_id</th>\n",
              "      <th>tweet_id</th>\n",
              "      <th>article_url</th>\n",
              "      <th>tco1_step1</th>\n",
              "      <th>tco2_step1</th>\n",
              "      <th>tco3_step1</th>\n",
              "    </tr>\n",
              "  </thead>\n",
              "  <tbody>\n",
              "    <tr>\n",
              "      <th>0</th>\n",
              "      <td>906000000000000000</td>\n",
              "      <td>10_GOP</td>\n",
              "      <td>\"We have a sitting Democrat US Senator on tria...</td>\n",
              "      <td>Unknown</td>\n",
              "      <td>English</td>\n",
              "      <td>10/1/2017 19:58</td>\n",
              "      <td>10/1/2017 19:59</td>\n",
              "      <td>1052</td>\n",
              "      <td>9636</td>\n",
              "      <td>253</td>\n",
              "      <td>NaN</td>\n",
              "      <td>Right</td>\n",
              "      <td>0</td>\n",
              "      <td>RightTroll</td>\n",
              "      <td>0</td>\n",
              "      <td>905874659358453760</td>\n",
              "      <td>914580356430536707</td>\n",
              "      <td>http://twitter.com/905874659358453760/statuses...</td>\n",
              "      <td>https://twitter.com/10_gop/status/914580356430...</td>\n",
              "      <td>NaN</td>\n",
              "      <td>NaN</td>\n",
              "    </tr>\n",
              "    <tr>\n",
              "      <th>1</th>\n",
              "      <td>906000000000000000</td>\n",
              "      <td>10_GOP</td>\n",
              "      <td>Marshawn Lynch arrives to game in anti-Trump s...</td>\n",
              "      <td>Unknown</td>\n",
              "      <td>English</td>\n",
              "      <td>10/1/2017 22:43</td>\n",
              "      <td>10/1/2017 22:43</td>\n",
              "      <td>1054</td>\n",
              "      <td>9637</td>\n",
              "      <td>254</td>\n",
              "      <td>NaN</td>\n",
              "      <td>Right</td>\n",
              "      <td>0</td>\n",
              "      <td>RightTroll</td>\n",
              "      <td>0</td>\n",
              "      <td>905874659358453760</td>\n",
              "      <td>914621840496189440</td>\n",
              "      <td>http://twitter.com/905874659358453760/statuses...</td>\n",
              "      <td>https://twitter.com/damienwoody/status/9145685...</td>\n",
              "      <td>NaN</td>\n",
              "      <td>NaN</td>\n",
              "    </tr>\n",
              "    <tr>\n",
              "      <th>2</th>\n",
              "      <td>906000000000000000</td>\n",
              "      <td>10_GOP</td>\n",
              "      <td>Daughter of fallen Navy Sailor delivers powerf...</td>\n",
              "      <td>Unknown</td>\n",
              "      <td>English</td>\n",
              "      <td>10/1/2017 22:50</td>\n",
              "      <td>10/1/2017 22:51</td>\n",
              "      <td>1054</td>\n",
              "      <td>9637</td>\n",
              "      <td>255</td>\n",
              "      <td>RETWEET</td>\n",
              "      <td>Right</td>\n",
              "      <td>1</td>\n",
              "      <td>RightTroll</td>\n",
              "      <td>0</td>\n",
              "      <td>905874659358453760</td>\n",
              "      <td>914623490375979008</td>\n",
              "      <td>http://twitter.com/905874659358453760/statuses...</td>\n",
              "      <td>https://twitter.com/10_gop/status/913231923715...</td>\n",
              "      <td>NaN</td>\n",
              "      <td>NaN</td>\n",
              "    </tr>\n",
              "    <tr>\n",
              "      <th>3</th>\n",
              "      <td>906000000000000000</td>\n",
              "      <td>10_GOP</td>\n",
              "      <td>JUST IN: President Trump dedicates Presidents ...</td>\n",
              "      <td>Unknown</td>\n",
              "      <td>English</td>\n",
              "      <td>10/1/2017 23:52</td>\n",
              "      <td>10/1/2017 23:52</td>\n",
              "      <td>1062</td>\n",
              "      <td>9642</td>\n",
              "      <td>256</td>\n",
              "      <td>NaN</td>\n",
              "      <td>Right</td>\n",
              "      <td>0</td>\n",
              "      <td>RightTroll</td>\n",
              "      <td>0</td>\n",
              "      <td>905874659358453760</td>\n",
              "      <td>914639143690555392</td>\n",
              "      <td>http://twitter.com/905874659358453760/statuses...</td>\n",
              "      <td>https://twitter.com/10_gop/status/914639143690...</td>\n",
              "      <td>NaN</td>\n",
              "      <td>NaN</td>\n",
              "    </tr>\n",
              "    <tr>\n",
              "      <th>4</th>\n",
              "      <td>906000000000000000</td>\n",
              "      <td>10_GOP</td>\n",
              "      <td>19,000 RESPECTING our National Anthem! #StandF...</td>\n",
              "      <td>Unknown</td>\n",
              "      <td>English</td>\n",
              "      <td>10/1/2017 2:13</td>\n",
              "      <td>10/1/2017 2:13</td>\n",
              "      <td>1050</td>\n",
              "      <td>9645</td>\n",
              "      <td>246</td>\n",
              "      <td>RETWEET</td>\n",
              "      <td>Right</td>\n",
              "      <td>1</td>\n",
              "      <td>RightTroll</td>\n",
              "      <td>0</td>\n",
              "      <td>905874659358453760</td>\n",
              "      <td>914312219952861184</td>\n",
              "      <td>http://twitter.com/905874659358453760/statuses...</td>\n",
              "      <td>https://twitter.com/realDonaldTrump/status/914...</td>\n",
              "      <td>NaN</td>\n",
              "      <td>NaN</td>\n",
              "    </tr>\n",
              "  </tbody>\n",
              "</table>\n",
              "</div>"
            ],
            "text/plain": [
              "   external_author_id  author  ... tco2_step1 tco3_step1\n",
              "0  906000000000000000  10_GOP  ...        NaN        NaN\n",
              "1  906000000000000000  10_GOP  ...        NaN        NaN\n",
              "2  906000000000000000  10_GOP  ...        NaN        NaN\n",
              "3  906000000000000000  10_GOP  ...        NaN        NaN\n",
              "4  906000000000000000  10_GOP  ...        NaN        NaN\n",
              "\n",
              "[5 rows x 21 columns]"
            ]
          },
          "metadata": {},
          "execution_count": 6
        }
      ]
    },
    {
      "cell_type": "code",
      "metadata": {
        "colab": {
          "base_uri": "https://localhost:8080/"
        },
        "id": "6v5iojhAMkrH",
        "outputId": "d271ee01-2dfd-4f3b-d555-11e87ebce01e"
      },
      "source": [
        "ds.shape"
      ],
      "execution_count": 7,
      "outputs": [
        {
          "output_type": "execute_result",
          "data": {
            "text/plain": [
              "(243891, 21)"
            ]
          },
          "metadata": {},
          "execution_count": 7
        }
      ]
    },
    {
      "cell_type": "code",
      "metadata": {
        "id": "ajFh0G5QNgm_"
      },
      "source": [
        "ds = ds[:10000]"
      ],
      "execution_count": 8,
      "outputs": []
    },
    {
      "cell_type": "code",
      "metadata": {
        "colab": {
          "base_uri": "https://localhost:8080/"
        },
        "id": "p1pwuIURNltx",
        "outputId": "42412532-adea-4e91-900d-c9e86cfd4ccd"
      },
      "source": [
        "ds.shape"
      ],
      "execution_count": 9,
      "outputs": [
        {
          "output_type": "execute_result",
          "data": {
            "text/plain": [
              "(10000, 21)"
            ]
          },
          "metadata": {},
          "execution_count": 9
        }
      ]
    },
    {
      "cell_type": "code",
      "metadata": {
        "colab": {
          "base_uri": "https://localhost:8080/"
        },
        "id": "-nTuX5F4CGXV",
        "outputId": "e7b07351-5b35-4df6-ca42-ab4e603d084d"
      },
      "source": [
        "ds['language'].unique()"
      ],
      "execution_count": 10,
      "outputs": [
        {
          "output_type": "execute_result",
          "data": {
            "text/plain": [
              "array(['English', 'Russian', 'Serbian', 'Ukrainian', 'Tagalog (Filipino)',\n",
              "       'Albanian', 'Italian', 'Romanian', 'Spanish', 'Catalan', 'German',\n",
              "       'Estonian', 'French', 'Norwegian', 'Vietnamese', 'Dutch', 'Arabic',\n",
              "       'Uzbek', 'Bulgarian', 'Macedonian', 'Farsi (Persian)', 'Turkish',\n",
              "       'LANGUAGE UNDEFINED', 'Czech', 'Somali', 'Lithuanian', 'Croatian',\n",
              "       'Slovak', 'Icelandic'], dtype=object)"
            ]
          },
          "metadata": {},
          "execution_count": 10
        }
      ]
    },
    {
      "cell_type": "code",
      "metadata": {
        "id": "oMYtvMcWNNCA"
      },
      "source": [
        "## now we know there is only one spelling of \"English\" (and not \"ENGLISH\" or \"english\" etc)"
      ],
      "execution_count": 11,
      "outputs": []
    },
    {
      "cell_type": "code",
      "metadata": {
        "id": "axbyAy7J6j-R"
      },
      "source": [
        "import re"
      ],
      "execution_count": 12,
      "outputs": []
    },
    {
      "cell_type": "code",
      "metadata": {
        "id": "8LHWcdEuNo_8"
      },
      "source": [
        "temp_df = []\n",
        "for idx in range(ds.shape[0]):\n",
        "    ## if english and if no question mark\n",
        "    if ds['language'][idx] == 'English' and re.search(r'\\?', ds['content'][idx]) == None:\n",
        "        temp_df.append(list(ds.iloc[idx]))\n",
        "          \n",
        "    "
      ],
      "execution_count": 13,
      "outputs": []
    },
    {
      "cell_type": "code",
      "metadata": {
        "id": "ZuAZVNjrPjjH"
      },
      "source": [
        "df = pd.DataFrame(temp_df, columns=ds.columns)"
      ],
      "execution_count": 14,
      "outputs": []
    },
    {
      "cell_type": "code",
      "metadata": {
        "colab": {
          "base_uri": "https://localhost:8080/",
          "height": 564
        },
        "id": "gYmtUgVQPwr0",
        "outputId": "a3f6d5e7-a151-4768-fe18-4c747e3d092f"
      },
      "source": [
        "df.head()"
      ],
      "execution_count": 15,
      "outputs": [
        {
          "output_type": "execute_result",
          "data": {
            "text/html": [
              "<div>\n",
              "<style scoped>\n",
              "    .dataframe tbody tr th:only-of-type {\n",
              "        vertical-align: middle;\n",
              "    }\n",
              "\n",
              "    .dataframe tbody tr th {\n",
              "        vertical-align: top;\n",
              "    }\n",
              "\n",
              "    .dataframe thead th {\n",
              "        text-align: right;\n",
              "    }\n",
              "</style>\n",
              "<table border=\"1\" class=\"dataframe\">\n",
              "  <thead>\n",
              "    <tr style=\"text-align: right;\">\n",
              "      <th></th>\n",
              "      <th>external_author_id</th>\n",
              "      <th>author</th>\n",
              "      <th>content</th>\n",
              "      <th>region</th>\n",
              "      <th>language</th>\n",
              "      <th>publish_date</th>\n",
              "      <th>harvested_date</th>\n",
              "      <th>following</th>\n",
              "      <th>followers</th>\n",
              "      <th>updates</th>\n",
              "      <th>post_type</th>\n",
              "      <th>account_type</th>\n",
              "      <th>retweet</th>\n",
              "      <th>account_category</th>\n",
              "      <th>new_june_2018</th>\n",
              "      <th>alt_external_id</th>\n",
              "      <th>tweet_id</th>\n",
              "      <th>article_url</th>\n",
              "      <th>tco1_step1</th>\n",
              "      <th>tco2_step1</th>\n",
              "      <th>tco3_step1</th>\n",
              "    </tr>\n",
              "  </thead>\n",
              "  <tbody>\n",
              "    <tr>\n",
              "      <th>0</th>\n",
              "      <td>906000000000000000</td>\n",
              "      <td>10_GOP</td>\n",
              "      <td>\"We have a sitting Democrat US Senator on tria...</td>\n",
              "      <td>Unknown</td>\n",
              "      <td>English</td>\n",
              "      <td>10/1/2017 19:58</td>\n",
              "      <td>10/1/2017 19:59</td>\n",
              "      <td>1052</td>\n",
              "      <td>9636</td>\n",
              "      <td>253</td>\n",
              "      <td>NaN</td>\n",
              "      <td>Right</td>\n",
              "      <td>0</td>\n",
              "      <td>RightTroll</td>\n",
              "      <td>0</td>\n",
              "      <td>905874659358453760</td>\n",
              "      <td>914580356430536707</td>\n",
              "      <td>http://twitter.com/905874659358453760/statuses...</td>\n",
              "      <td>https://twitter.com/10_gop/status/914580356430...</td>\n",
              "      <td>NaN</td>\n",
              "      <td>NaN</td>\n",
              "    </tr>\n",
              "    <tr>\n",
              "      <th>1</th>\n",
              "      <td>906000000000000000</td>\n",
              "      <td>10_GOP</td>\n",
              "      <td>Marshawn Lynch arrives to game in anti-Trump s...</td>\n",
              "      <td>Unknown</td>\n",
              "      <td>English</td>\n",
              "      <td>10/1/2017 22:43</td>\n",
              "      <td>10/1/2017 22:43</td>\n",
              "      <td>1054</td>\n",
              "      <td>9637</td>\n",
              "      <td>254</td>\n",
              "      <td>NaN</td>\n",
              "      <td>Right</td>\n",
              "      <td>0</td>\n",
              "      <td>RightTroll</td>\n",
              "      <td>0</td>\n",
              "      <td>905874659358453760</td>\n",
              "      <td>914621840496189440</td>\n",
              "      <td>http://twitter.com/905874659358453760/statuses...</td>\n",
              "      <td>https://twitter.com/damienwoody/status/9145685...</td>\n",
              "      <td>NaN</td>\n",
              "      <td>NaN</td>\n",
              "    </tr>\n",
              "    <tr>\n",
              "      <th>2</th>\n",
              "      <td>906000000000000000</td>\n",
              "      <td>10_GOP</td>\n",
              "      <td>Daughter of fallen Navy Sailor delivers powerf...</td>\n",
              "      <td>Unknown</td>\n",
              "      <td>English</td>\n",
              "      <td>10/1/2017 22:50</td>\n",
              "      <td>10/1/2017 22:51</td>\n",
              "      <td>1054</td>\n",
              "      <td>9637</td>\n",
              "      <td>255</td>\n",
              "      <td>RETWEET</td>\n",
              "      <td>Right</td>\n",
              "      <td>1</td>\n",
              "      <td>RightTroll</td>\n",
              "      <td>0</td>\n",
              "      <td>905874659358453760</td>\n",
              "      <td>914623490375979008</td>\n",
              "      <td>http://twitter.com/905874659358453760/statuses...</td>\n",
              "      <td>https://twitter.com/10_gop/status/913231923715...</td>\n",
              "      <td>NaN</td>\n",
              "      <td>NaN</td>\n",
              "    </tr>\n",
              "    <tr>\n",
              "      <th>3</th>\n",
              "      <td>906000000000000000</td>\n",
              "      <td>10_GOP</td>\n",
              "      <td>JUST IN: President Trump dedicates Presidents ...</td>\n",
              "      <td>Unknown</td>\n",
              "      <td>English</td>\n",
              "      <td>10/1/2017 23:52</td>\n",
              "      <td>10/1/2017 23:52</td>\n",
              "      <td>1062</td>\n",
              "      <td>9642</td>\n",
              "      <td>256</td>\n",
              "      <td>NaN</td>\n",
              "      <td>Right</td>\n",
              "      <td>0</td>\n",
              "      <td>RightTroll</td>\n",
              "      <td>0</td>\n",
              "      <td>905874659358453760</td>\n",
              "      <td>914639143690555392</td>\n",
              "      <td>http://twitter.com/905874659358453760/statuses...</td>\n",
              "      <td>https://twitter.com/10_gop/status/914639143690...</td>\n",
              "      <td>NaN</td>\n",
              "      <td>NaN</td>\n",
              "    </tr>\n",
              "    <tr>\n",
              "      <th>4</th>\n",
              "      <td>906000000000000000</td>\n",
              "      <td>10_GOP</td>\n",
              "      <td>19,000 RESPECTING our National Anthem! #StandF...</td>\n",
              "      <td>Unknown</td>\n",
              "      <td>English</td>\n",
              "      <td>10/1/2017 2:13</td>\n",
              "      <td>10/1/2017 2:13</td>\n",
              "      <td>1050</td>\n",
              "      <td>9645</td>\n",
              "      <td>246</td>\n",
              "      <td>RETWEET</td>\n",
              "      <td>Right</td>\n",
              "      <td>1</td>\n",
              "      <td>RightTroll</td>\n",
              "      <td>0</td>\n",
              "      <td>905874659358453760</td>\n",
              "      <td>914312219952861184</td>\n",
              "      <td>http://twitter.com/905874659358453760/statuses...</td>\n",
              "      <td>https://twitter.com/realDonaldTrump/status/914...</td>\n",
              "      <td>NaN</td>\n",
              "      <td>NaN</td>\n",
              "    </tr>\n",
              "  </tbody>\n",
              "</table>\n",
              "</div>"
            ],
            "text/plain": [
              "   external_author_id  author  ... tco2_step1 tco3_step1\n",
              "0  906000000000000000  10_GOP  ...        NaN        NaN\n",
              "1  906000000000000000  10_GOP  ...        NaN        NaN\n",
              "2  906000000000000000  10_GOP  ...        NaN        NaN\n",
              "3  906000000000000000  10_GOP  ...        NaN        NaN\n",
              "4  906000000000000000  10_GOP  ...        NaN        NaN\n",
              "\n",
              "[5 rows x 21 columns]"
            ]
          },
          "metadata": {},
          "execution_count": 15
        }
      ]
    },
    {
      "cell_type": "code",
      "metadata": {
        "colab": {
          "base_uri": "https://localhost:8080/"
        },
        "id": "rNaU6P0DPxHS",
        "outputId": "2cbe19ac-14cf-4ac7-94a1-d127339762df"
      },
      "source": [
        "df.shape"
      ],
      "execution_count": 16,
      "outputs": [
        {
          "output_type": "execute_result",
          "data": {
            "text/plain": [
              "(4802, 21)"
            ]
          },
          "metadata": {},
          "execution_count": 16
        }
      ]
    },
    {
      "cell_type": "code",
      "metadata": {
        "colab": {
          "base_uri": "https://localhost:8080/"
        },
        "id": "ImTi9N9F7VOm",
        "outputId": "e73a50fa-173f-4aa6-dd67-cf902db6bf0b"
      },
      "source": [
        "df['post_type'].unique()"
      ],
      "execution_count": 17,
      "outputs": [
        {
          "output_type": "execute_result",
          "data": {
            "text/plain": [
              "array([nan, 'RETWEET', 'QUOTE_TWEET'], dtype=object)"
            ]
          },
          "metadata": {},
          "execution_count": 17
        }
      ]
    },
    {
      "cell_type": "code",
      "metadata": {
        "id": "vbwgXPMF7Orq"
      },
      "source": [
        "## WE HAVE MORE THAN WHAT WE WANT BECAUSE SOME ARE RETWEETS!!!!!!!!!!!\n",
        "## Some people do not capitalise T\n",
        "## Some people reply and do not mention trump\n"
      ],
      "execution_count": 18,
      "outputs": []
    },
    {
      "cell_type": "code",
      "metadata": {
        "id": "C23O6j0S75G8"
      },
      "source": [
        "pattern = r'(^(Trump)|\\W(Trump))\\W' # string starts with 'Trump', or has not an alphanumeric followed by Trump, and is not followed by an alphanumeric\n",
        "trump_mention = []\n",
        "\n",
        "for idx in range(df.shape[0]):\n",
        "    if re.search(pattern, df['content'][idx]):\n",
        "        trump_mention.append(\"Y\")\n",
        "    else:\n",
        "        trump_mention.append(\"N\")\n",
        "        \n",
        "df['trump_mention'] = trump_mention"
      ],
      "execution_count": 19,
      "outputs": []
    },
    {
      "cell_type": "code",
      "metadata": {
        "id": "0B6H33ELS-Rw"
      },
      "source": [
        "## IDENTIFYING REALDONALDTRUMP MENTION \n",
        "\n",
        "pattern = r'\\@(realDonaldTrump)' # string containing the mention @realDonaldTrump\n",
        "dtrump_mention = []\n",
        "\n",
        "for idx in range(df.shape[0]):\n",
        "    if re.search(pattern, df['content'][idx]):\n",
        "        dtrump_mention.append(\"Y\")\n",
        "    else:\n",
        "        dtrump_mention.append(\"N\")\n",
        "        \n",
        "df['dtrump_mention'] = dtrump_mention"
      ],
      "execution_count": 32,
      "outputs": []
    },
    {
      "cell_type": "code",
      "metadata": {
        "colab": {
          "base_uri": "https://localhost:8080/",
          "height": 564
        },
        "id": "a0Ts211G799U",
        "outputId": "becb5047-516f-42ee-ee9b-445a0a4c68ef"
      },
      "source": [
        "df.head()"
      ],
      "execution_count": 33,
      "outputs": [
        {
          "output_type": "execute_result",
          "data": {
            "text/html": [
              "<div>\n",
              "<style scoped>\n",
              "    .dataframe tbody tr th:only-of-type {\n",
              "        vertical-align: middle;\n",
              "    }\n",
              "\n",
              "    .dataframe tbody tr th {\n",
              "        vertical-align: top;\n",
              "    }\n",
              "\n",
              "    .dataframe thead th {\n",
              "        text-align: right;\n",
              "    }\n",
              "</style>\n",
              "<table border=\"1\" class=\"dataframe\">\n",
              "  <thead>\n",
              "    <tr style=\"text-align: right;\">\n",
              "      <th></th>\n",
              "      <th>external_author_id</th>\n",
              "      <th>author</th>\n",
              "      <th>content</th>\n",
              "      <th>region</th>\n",
              "      <th>language</th>\n",
              "      <th>publish_date</th>\n",
              "      <th>harvested_date</th>\n",
              "      <th>following</th>\n",
              "      <th>followers</th>\n",
              "      <th>updates</th>\n",
              "      <th>post_type</th>\n",
              "      <th>account_type</th>\n",
              "      <th>retweet</th>\n",
              "      <th>account_category</th>\n",
              "      <th>new_june_2018</th>\n",
              "      <th>alt_external_id</th>\n",
              "      <th>tweet_id</th>\n",
              "      <th>article_url</th>\n",
              "      <th>tco1_step1</th>\n",
              "      <th>tco2_step1</th>\n",
              "      <th>tco3_step1</th>\n",
              "      <th>trump_mention</th>\n",
              "      <th>dtrump_mention</th>\n",
              "    </tr>\n",
              "  </thead>\n",
              "  <tbody>\n",
              "    <tr>\n",
              "      <th>0</th>\n",
              "      <td>906000000000000000</td>\n",
              "      <td>10_GOP</td>\n",
              "      <td>\"We have a sitting Democrat US Senator on tria...</td>\n",
              "      <td>Unknown</td>\n",
              "      <td>English</td>\n",
              "      <td>10/1/2017 19:58</td>\n",
              "      <td>10/1/2017 19:59</td>\n",
              "      <td>1052</td>\n",
              "      <td>9636</td>\n",
              "      <td>253</td>\n",
              "      <td>NaN</td>\n",
              "      <td>Right</td>\n",
              "      <td>0</td>\n",
              "      <td>RightTroll</td>\n",
              "      <td>0</td>\n",
              "      <td>905874659358453760</td>\n",
              "      <td>914580356430536707</td>\n",
              "      <td>http://twitter.com/905874659358453760/statuses...</td>\n",
              "      <td>https://twitter.com/10_gop/status/914580356430...</td>\n",
              "      <td>NaN</td>\n",
              "      <td>NaN</td>\n",
              "      <td>N</td>\n",
              "      <td>N</td>\n",
              "    </tr>\n",
              "    <tr>\n",
              "      <th>1</th>\n",
              "      <td>906000000000000000</td>\n",
              "      <td>10_GOP</td>\n",
              "      <td>Marshawn Lynch arrives to game in anti-Trump s...</td>\n",
              "      <td>Unknown</td>\n",
              "      <td>English</td>\n",
              "      <td>10/1/2017 22:43</td>\n",
              "      <td>10/1/2017 22:43</td>\n",
              "      <td>1054</td>\n",
              "      <td>9637</td>\n",
              "      <td>254</td>\n",
              "      <td>NaN</td>\n",
              "      <td>Right</td>\n",
              "      <td>0</td>\n",
              "      <td>RightTroll</td>\n",
              "      <td>0</td>\n",
              "      <td>905874659358453760</td>\n",
              "      <td>914621840496189440</td>\n",
              "      <td>http://twitter.com/905874659358453760/statuses...</td>\n",
              "      <td>https://twitter.com/damienwoody/status/9145685...</td>\n",
              "      <td>NaN</td>\n",
              "      <td>NaN</td>\n",
              "      <td>Y</td>\n",
              "      <td>N</td>\n",
              "    </tr>\n",
              "    <tr>\n",
              "      <th>2</th>\n",
              "      <td>906000000000000000</td>\n",
              "      <td>10_GOP</td>\n",
              "      <td>Daughter of fallen Navy Sailor delivers powerf...</td>\n",
              "      <td>Unknown</td>\n",
              "      <td>English</td>\n",
              "      <td>10/1/2017 22:50</td>\n",
              "      <td>10/1/2017 22:51</td>\n",
              "      <td>1054</td>\n",
              "      <td>9637</td>\n",
              "      <td>255</td>\n",
              "      <td>RETWEET</td>\n",
              "      <td>Right</td>\n",
              "      <td>1</td>\n",
              "      <td>RightTroll</td>\n",
              "      <td>0</td>\n",
              "      <td>905874659358453760</td>\n",
              "      <td>914623490375979008</td>\n",
              "      <td>http://twitter.com/905874659358453760/statuses...</td>\n",
              "      <td>https://twitter.com/10_gop/status/913231923715...</td>\n",
              "      <td>NaN</td>\n",
              "      <td>NaN</td>\n",
              "      <td>N</td>\n",
              "      <td>N</td>\n",
              "    </tr>\n",
              "    <tr>\n",
              "      <th>3</th>\n",
              "      <td>906000000000000000</td>\n",
              "      <td>10_GOP</td>\n",
              "      <td>JUST IN: President Trump dedicates Presidents ...</td>\n",
              "      <td>Unknown</td>\n",
              "      <td>English</td>\n",
              "      <td>10/1/2017 23:52</td>\n",
              "      <td>10/1/2017 23:52</td>\n",
              "      <td>1062</td>\n",
              "      <td>9642</td>\n",
              "      <td>256</td>\n",
              "      <td>NaN</td>\n",
              "      <td>Right</td>\n",
              "      <td>0</td>\n",
              "      <td>RightTroll</td>\n",
              "      <td>0</td>\n",
              "      <td>905874659358453760</td>\n",
              "      <td>914639143690555392</td>\n",
              "      <td>http://twitter.com/905874659358453760/statuses...</td>\n",
              "      <td>https://twitter.com/10_gop/status/914639143690...</td>\n",
              "      <td>NaN</td>\n",
              "      <td>NaN</td>\n",
              "      <td>Y</td>\n",
              "      <td>N</td>\n",
              "    </tr>\n",
              "    <tr>\n",
              "      <th>4</th>\n",
              "      <td>906000000000000000</td>\n",
              "      <td>10_GOP</td>\n",
              "      <td>19,000 RESPECTING our National Anthem! #StandF...</td>\n",
              "      <td>Unknown</td>\n",
              "      <td>English</td>\n",
              "      <td>10/1/2017 2:13</td>\n",
              "      <td>10/1/2017 2:13</td>\n",
              "      <td>1050</td>\n",
              "      <td>9645</td>\n",
              "      <td>246</td>\n",
              "      <td>RETWEET</td>\n",
              "      <td>Right</td>\n",
              "      <td>1</td>\n",
              "      <td>RightTroll</td>\n",
              "      <td>0</td>\n",
              "      <td>905874659358453760</td>\n",
              "      <td>914312219952861184</td>\n",
              "      <td>http://twitter.com/905874659358453760/statuses...</td>\n",
              "      <td>https://twitter.com/realDonaldTrump/status/914...</td>\n",
              "      <td>NaN</td>\n",
              "      <td>NaN</td>\n",
              "      <td>N</td>\n",
              "      <td>N</td>\n",
              "    </tr>\n",
              "  </tbody>\n",
              "</table>\n",
              "</div>"
            ],
            "text/plain": [
              "   external_author_id  author  ... trump_mention dtrump_mention\n",
              "0  906000000000000000  10_GOP  ...             N              N\n",
              "1  906000000000000000  10_GOP  ...             Y              N\n",
              "2  906000000000000000  10_GOP  ...             N              N\n",
              "3  906000000000000000  10_GOP  ...             Y              N\n",
              "4  906000000000000000  10_GOP  ...             N              N\n",
              "\n",
              "[5 rows x 23 columns]"
            ]
          },
          "metadata": {},
          "execution_count": 33
        }
      ]
    },
    {
      "cell_type": "code",
      "metadata": {
        "id": "TOkjnZKtBEfj"
      },
      "source": [
        "##### 879 retweet or quote tweet\n",
        "##### 590 retweet\n",
        "##### 289 quote tweet"
      ],
      "execution_count": 30,
      "outputs": []
    },
    {
      "cell_type": "code",
      "metadata": {
        "colab": {
          "base_uri": "https://localhost:8080/"
        },
        "id": "LDeKRraJUlSi",
        "outputId": "d25386e7-82ec-4336-8c0e-4067f8234ca0"
      },
      "source": [
        "## HERE WE COUNT IF REALDONALDTRUMP IS MENTIONED\n",
        "\n",
        "rt_count = 0\n",
        "qt_count = 0\n",
        "count = 0\n",
        "for idx in range(df.shape[0]):\n",
        "    if df['dtrump_mention'][idx] == \"Y\":\n",
        "        if df['post_type'][idx] == 'RETWEET':\n",
        "            rt_count += 1\n",
        "        elif df['post_type'][idx] == 'QUOTE_TWEET':\n",
        "            qt_count += 1\n",
        "        else:\n",
        "            count += 1\n",
        "\n",
        "print(\"Normal: {}\\nRetweet: {}\\nQuote tweet: {}\\nTotal: {}\".format(count, rt_count, qt_count, count+rt_count+qt_count))"
      ],
      "execution_count": 38,
      "outputs": [
        {
          "output_type": "stream",
          "name": "stdout",
          "text": [
            "Normal: 72\n",
            "Retweet: 5\n",
            "Quote tweet: 0\n",
            "Total: 77\n"
          ]
        }
      ]
    },
    {
      "cell_type": "code",
      "metadata": {
        "colab": {
          "base_uri": "https://localhost:8080/"
        },
        "id": "WRDL3Sge8Fee",
        "outputId": "4e0dbab8-03ab-439b-d74d-d72ab6d8640d"
      },
      "source": [
        "## HERE WE COUNT IF REALDONALDTRUMP IS MENTIONED AND IF POST DOES NOT INCLUDE WORD \"Trump\"\n",
        "\n",
        "rt_count = 0\n",
        "qt_count = 0\n",
        "count = 0\n",
        "for idx in range(df.shape[0]):\n",
        "    if df['dtrump_mention'][idx] == \"Y\" and df['trump_mention'][idx] == \"N\":\n",
        "        if df['post_type'][idx] == 'RETWEET':\n",
        "            rt_count += 1\n",
        "        elif df['post_type'][idx] == 'QUOTE_TWEET':\n",
        "            qt_count += 1\n",
        "        else:\n",
        "            count += 1\n",
        "\n",
        "print(\"Normal: {}\\nRetweet: {}\\nQuote tweet: {}\\nTotal: {}\".format(count, rt_count, qt_count, count+rt_count+qt_count))"
      ],
      "execution_count": 34,
      "outputs": [
        {
          "output_type": "stream",
          "name": "stdout",
          "text": [
            "Normal: 68\n",
            "Retweet: 3\n",
            "Quote tweet: 0\n",
            "Total: 71\n"
          ]
        }
      ]
    },
    {
      "cell_type": "code",
      "metadata": {
        "colab": {
          "base_uri": "https://localhost:8080/"
        },
        "id": "oRCxci0VUUrw",
        "outputId": "e6fddf25-fbbd-4035-afc7-6a4416392a0d"
      },
      "source": [
        "## HERE WE COUNT IN HOW MANY POSTS \"Trump\" was mentioned\n",
        "\n",
        "rt_count = 0\n",
        "qt_count = 0\n",
        "count = 0\n",
        "for idx in range(df.shape[0]):\n",
        "    if df['trump_mention'][idx] == \"Y\":\n",
        "        if df['post_type'][idx] == 'RETWEET':\n",
        "            rt_count += 1\n",
        "        elif df['post_type'][idx] == 'QUOTE_TWEET':\n",
        "            qt_count += 1\n",
        "        else:\n",
        "            count += 1\n",
        "trump_mentions = count+rt_count+qt_count\n",
        "print(\"Normal: {}\\nRetweet: {}\\nQuote tweet: {}\\nTotal: {}\".format(count, rt_count, qt_count, trump_mentions))"
      ],
      "execution_count": 40,
      "outputs": [
        {
          "output_type": "stream",
          "name": "stdout",
          "text": [
            "Normal: 77\n",
            "Retweet: 30\n",
            "Quote tweet: 1\n",
            "Total: 108\n"
          ]
        }
      ]
    },
    {
      "cell_type": "code",
      "metadata": {
        "id": "y5AjS_7cxciQ"
      },
      "source": [
        "final_df = pd.DataFrame(data= {'tweet_id': df['tweet_id'], 'publish_date': df['publish_date'], 'content': df['content'], 'trump_mention': df['trump_mention']})"
      ],
      "execution_count": 41,
      "outputs": []
    },
    {
      "cell_type": "code",
      "metadata": {
        "colab": {
          "base_uri": "https://localhost:8080/",
          "height": 204
        },
        "id": "RemD6nVN93aS",
        "outputId": "69a82001-8346-42c5-ef45-b794843569c9"
      },
      "source": [
        "final_df.head()"
      ],
      "execution_count": 42,
      "outputs": [
        {
          "output_type": "execute_result",
          "data": {
            "text/html": [
              "<div>\n",
              "<style scoped>\n",
              "    .dataframe tbody tr th:only-of-type {\n",
              "        vertical-align: middle;\n",
              "    }\n",
              "\n",
              "    .dataframe tbody tr th {\n",
              "        vertical-align: top;\n",
              "    }\n",
              "\n",
              "    .dataframe thead th {\n",
              "        text-align: right;\n",
              "    }\n",
              "</style>\n",
              "<table border=\"1\" class=\"dataframe\">\n",
              "  <thead>\n",
              "    <tr style=\"text-align: right;\">\n",
              "      <th></th>\n",
              "      <th>tweet_id</th>\n",
              "      <th>publish_date</th>\n",
              "      <th>content</th>\n",
              "      <th>trump_mention</th>\n",
              "    </tr>\n",
              "  </thead>\n",
              "  <tbody>\n",
              "    <tr>\n",
              "      <th>0</th>\n",
              "      <td>914580356430536707</td>\n",
              "      <td>10/1/2017 19:58</td>\n",
              "      <td>\"We have a sitting Democrat US Senator on tria...</td>\n",
              "      <td>N</td>\n",
              "    </tr>\n",
              "    <tr>\n",
              "      <th>1</th>\n",
              "      <td>914621840496189440</td>\n",
              "      <td>10/1/2017 22:43</td>\n",
              "      <td>Marshawn Lynch arrives to game in anti-Trump s...</td>\n",
              "      <td>Y</td>\n",
              "    </tr>\n",
              "    <tr>\n",
              "      <th>2</th>\n",
              "      <td>914623490375979008</td>\n",
              "      <td>10/1/2017 22:50</td>\n",
              "      <td>Daughter of fallen Navy Sailor delivers powerf...</td>\n",
              "      <td>N</td>\n",
              "    </tr>\n",
              "    <tr>\n",
              "      <th>3</th>\n",
              "      <td>914639143690555392</td>\n",
              "      <td>10/1/2017 23:52</td>\n",
              "      <td>JUST IN: President Trump dedicates Presidents ...</td>\n",
              "      <td>Y</td>\n",
              "    </tr>\n",
              "    <tr>\n",
              "      <th>4</th>\n",
              "      <td>914312219952861184</td>\n",
              "      <td>10/1/2017 2:13</td>\n",
              "      <td>19,000 RESPECTING our National Anthem! #StandF...</td>\n",
              "      <td>N</td>\n",
              "    </tr>\n",
              "  </tbody>\n",
              "</table>\n",
              "</div>"
            ],
            "text/plain": [
              "             tweet_id  ... trump_mention\n",
              "0  914580356430536707  ...             N\n",
              "1  914621840496189440  ...             Y\n",
              "2  914623490375979008  ...             N\n",
              "3  914639143690555392  ...             Y\n",
              "4  914312219952861184  ...             N\n",
              "\n",
              "[5 rows x 4 columns]"
            ]
          },
          "metadata": {},
          "execution_count": 42
        }
      ]
    },
    {
      "cell_type": "code",
      "metadata": {
        "id": "Dps5l2FkxJ1j"
      },
      "source": [
        "## tweet_id,publish_date,content,and trump_mention"
      ],
      "execution_count": 43,
      "outputs": []
    },
    {
      "cell_type": "code",
      "metadata": {
        "colab": {
          "base_uri": "https://localhost:8080/",
          "height": 204
        },
        "id": "QVOVyT0T7WWt",
        "outputId": "e9fbe8d8-7aa3-453c-b8fc-3d4c92bd2324"
      },
      "source": [
        "final_df.head()"
      ],
      "execution_count": 44,
      "outputs": [
        {
          "output_type": "execute_result",
          "data": {
            "text/html": [
              "<div>\n",
              "<style scoped>\n",
              "    .dataframe tbody tr th:only-of-type {\n",
              "        vertical-align: middle;\n",
              "    }\n",
              "\n",
              "    .dataframe tbody tr th {\n",
              "        vertical-align: top;\n",
              "    }\n",
              "\n",
              "    .dataframe thead th {\n",
              "        text-align: right;\n",
              "    }\n",
              "</style>\n",
              "<table border=\"1\" class=\"dataframe\">\n",
              "  <thead>\n",
              "    <tr style=\"text-align: right;\">\n",
              "      <th></th>\n",
              "      <th>tweet_id</th>\n",
              "      <th>publish_date</th>\n",
              "      <th>content</th>\n",
              "      <th>trump_mention</th>\n",
              "    </tr>\n",
              "  </thead>\n",
              "  <tbody>\n",
              "    <tr>\n",
              "      <th>0</th>\n",
              "      <td>914580356430536707</td>\n",
              "      <td>10/1/2017 19:58</td>\n",
              "      <td>\"We have a sitting Democrat US Senator on tria...</td>\n",
              "      <td>N</td>\n",
              "    </tr>\n",
              "    <tr>\n",
              "      <th>1</th>\n",
              "      <td>914621840496189440</td>\n",
              "      <td>10/1/2017 22:43</td>\n",
              "      <td>Marshawn Lynch arrives to game in anti-Trump s...</td>\n",
              "      <td>Y</td>\n",
              "    </tr>\n",
              "    <tr>\n",
              "      <th>2</th>\n",
              "      <td>914623490375979008</td>\n",
              "      <td>10/1/2017 22:50</td>\n",
              "      <td>Daughter of fallen Navy Sailor delivers powerf...</td>\n",
              "      <td>N</td>\n",
              "    </tr>\n",
              "    <tr>\n",
              "      <th>3</th>\n",
              "      <td>914639143690555392</td>\n",
              "      <td>10/1/2017 23:52</td>\n",
              "      <td>JUST IN: President Trump dedicates Presidents ...</td>\n",
              "      <td>Y</td>\n",
              "    </tr>\n",
              "    <tr>\n",
              "      <th>4</th>\n",
              "      <td>914312219952861184</td>\n",
              "      <td>10/1/2017 2:13</td>\n",
              "      <td>19,000 RESPECTING our National Anthem! #StandF...</td>\n",
              "      <td>N</td>\n",
              "    </tr>\n",
              "  </tbody>\n",
              "</table>\n",
              "</div>"
            ],
            "text/plain": [
              "             tweet_id  ... trump_mention\n",
              "0  914580356430536707  ...             N\n",
              "1  914621840496189440  ...             Y\n",
              "2  914623490375979008  ...             N\n",
              "3  914639143690555392  ...             Y\n",
              "4  914312219952861184  ...             N\n",
              "\n",
              "[5 rows x 4 columns]"
            ]
          },
          "metadata": {},
          "execution_count": 44
        }
      ]
    },
    {
      "cell_type": "code",
      "metadata": {
        "id": "-lEdVr89vJbb"
      },
      "source": [
        "final_df.to_csv('/content/drive/MyDrive/COMP598-datascience/dataset.tsv', sep='\\t', index_label=False)"
      ],
      "execution_count": 45,
      "outputs": []
    },
    {
      "cell_type": "code",
      "metadata": {
        "colab": {
          "base_uri": "https://localhost:8080/"
        },
        "id": "8VrxKdmHKEjW",
        "outputId": "4b611a54-2a3a-42f9-a5ce-8f349ca8d244"
      },
      "source": [
        "frac = trump_mentions / (final_df.shape[0])\n",
        "print(frac)\n",
        "print(round(frac, 3))"
      ],
      "execution_count": 46,
      "outputs": [
        {
          "output_type": "stream",
          "name": "stdout",
          "text": [
            "0.022490628904623073\n",
            "0.022\n"
          ]
        }
      ]
    },
    {
      "cell_type": "code",
      "metadata": {
        "id": "TUVOZxTminfT"
      },
      "source": [
        "results_df = pd.DataFrame(data= {'result': ['frac-trump-mentions'], 'value': [round(frac, 3)]})"
      ],
      "execution_count": 47,
      "outputs": []
    },
    {
      "cell_type": "code",
      "metadata": {
        "colab": {
          "base_uri": "https://localhost:8080/",
          "height": 80
        },
        "id": "G1kZlkkmjl5r",
        "outputId": "593c3ff6-9930-498f-c186-4729f53c70d8"
      },
      "source": [
        "results_df"
      ],
      "execution_count": 48,
      "outputs": [
        {
          "output_type": "execute_result",
          "data": {
            "text/html": [
              "<div>\n",
              "<style scoped>\n",
              "    .dataframe tbody tr th:only-of-type {\n",
              "        vertical-align: middle;\n",
              "    }\n",
              "\n",
              "    .dataframe tbody tr th {\n",
              "        vertical-align: top;\n",
              "    }\n",
              "\n",
              "    .dataframe thead th {\n",
              "        text-align: right;\n",
              "    }\n",
              "</style>\n",
              "<table border=\"1\" class=\"dataframe\">\n",
              "  <thead>\n",
              "    <tr style=\"text-align: right;\">\n",
              "      <th></th>\n",
              "      <th>result</th>\n",
              "      <th>value</th>\n",
              "    </tr>\n",
              "  </thead>\n",
              "  <tbody>\n",
              "    <tr>\n",
              "      <th>0</th>\n",
              "      <td>frac-trump-mentions</td>\n",
              "      <td>0.022</td>\n",
              "    </tr>\n",
              "  </tbody>\n",
              "</table>\n",
              "</div>"
            ],
            "text/plain": [
              "                result  value\n",
              "0  frac-trump-mentions  0.022"
            ]
          },
          "metadata": {},
          "execution_count": 48
        }
      ]
    },
    {
      "cell_type": "code",
      "metadata": {
        "id": "yWNzwUQIlU72"
      },
      "source": [
        "results_df.to_csv('/content/drive/MyDrive/COMP598-datascience/results.tsv', sep='\\t', index=False)"
      ],
      "execution_count": 36,
      "outputs": []
    },
    {
      "cell_type": "code",
      "metadata": {
        "id": "sAtD3Y4zmoot"
      },
      "source": [
        ""
      ],
      "execution_count": null,
      "outputs": []
    }
  ]
}